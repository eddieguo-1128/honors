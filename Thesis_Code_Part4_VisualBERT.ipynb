{
  "nbformat": 4,
  "nbformat_minor": 0,
  "metadata": {
    "colab": {
      "provenance": [],
      "authorship_tag": "ABX9TyOCoOXXlhq1A+lQ3Fol3iV8",
      "include_colab_link": true
    },
    "kernelspec": {
      "name": "python3",
      "display_name": "Python 3"
    },
    "language_info": {
      "name": "python"
    },
    "accelerator": "GPU",
    "gpuClass": "standard"
  },
  "cells": [
    {
      "cell_type": "markdown",
      "metadata": {
        "id": "view-in-github",
        "colab_type": "text"
      },
      "source": [
        "<a href=\"https://colab.research.google.com/github/eddieguo-1128/honors/blob/main/Thesis_Code_Part4_VisualBERT.ipynb\" target=\"_parent\"><img src=\"https://colab.research.google.com/assets/colab-badge.svg\" alt=\"Open In Colab\"/></a>"
      ]
    },
    {
      "cell_type": "code",
      "execution_count": null,
      "metadata": {
        "colab": {
          "base_uri": "https://localhost:8080/"
        },
        "id": "EPKwEhc44ENj",
        "outputId": "a1d091cd-cfd0-4bca-aebf-6146ffdc4bf2"
      },
      "outputs": [
        {
          "output_type": "stream",
          "name": "stdout",
          "text": [
            "Looking in indexes: https://pypi.org/simple, https://us-python.pkg.dev/colab-wheels/public/simple/\n",
            "Requirement already satisfied: nltk in /usr/local/lib/python3.8/dist-packages (3.7)\n",
            "Requirement already satisfied: regex>=2021.8.3 in /usr/local/lib/python3.8/dist-packages (from nltk) (2022.6.2)\n",
            "Requirement already satisfied: joblib in /usr/local/lib/python3.8/dist-packages (from nltk) (1.2.0)\n",
            "Requirement already satisfied: tqdm in /usr/local/lib/python3.8/dist-packages (from nltk) (4.64.1)\n",
            "Requirement already satisfied: click in /usr/local/lib/python3.8/dist-packages (from nltk) (8.1.3)\n",
            "Looking in indexes: https://pypi.org/simple, https://us-python.pkg.dev/colab-wheels/public/simple/\n",
            "Collecting transformers\n",
            "  Downloading transformers-4.26.1-py3-none-any.whl (6.3 MB)\n",
            "\u001b[2K     \u001b[90m━━━━━━━━━━━━━━━━━━━━━━━━━━━━━━━━━━━━━━━━\u001b[0m \u001b[32m6.3/6.3 MB\u001b[0m \u001b[31m23.6 MB/s\u001b[0m eta \u001b[36m0:00:00\u001b[0m\n",
            "\u001b[?25hRequirement already satisfied: requests in /usr/local/lib/python3.8/dist-packages (from transformers) (2.25.1)\n",
            "Requirement already satisfied: packaging>=20.0 in /usr/local/lib/python3.8/dist-packages (from transformers) (23.0)\n",
            "Requirement already satisfied: numpy>=1.17 in /usr/local/lib/python3.8/dist-packages (from transformers) (1.22.4)\n",
            "Collecting huggingface-hub<1.0,>=0.11.0\n",
            "  Downloading huggingface_hub-0.12.1-py3-none-any.whl (190 kB)\n",
            "\u001b[2K     \u001b[90m━━━━━━━━━━━━━━━━━━━━━━━━━━━━━━━━━━━━━━\u001b[0m \u001b[32m190.3/190.3 KB\u001b[0m \u001b[31m15.2 MB/s\u001b[0m eta \u001b[36m0:00:00\u001b[0m\n",
            "\u001b[?25hRequirement already satisfied: regex!=2019.12.17 in /usr/local/lib/python3.8/dist-packages (from transformers) (2022.6.2)\n",
            "Requirement already satisfied: tqdm>=4.27 in /usr/local/lib/python3.8/dist-packages (from transformers) (4.64.1)\n",
            "Collecting tokenizers!=0.11.3,<0.14,>=0.11.1\n",
            "  Downloading tokenizers-0.13.2-cp38-cp38-manylinux_2_17_x86_64.manylinux2014_x86_64.whl (7.6 MB)\n",
            "\u001b[2K     \u001b[90m━━━━━━━━━━━━━━━━━━━━━━━━━━━━━━━━━━━━━━━━\u001b[0m \u001b[32m7.6/7.6 MB\u001b[0m \u001b[31m31.7 MB/s\u001b[0m eta \u001b[36m0:00:00\u001b[0m\n",
            "\u001b[?25hRequirement already satisfied: pyyaml>=5.1 in /usr/local/lib/python3.8/dist-packages (from transformers) (6.0)\n",
            "Requirement already satisfied: filelock in /usr/local/lib/python3.8/dist-packages (from transformers) (3.9.0)\n",
            "Requirement already satisfied: typing-extensions>=3.7.4.3 in /usr/local/lib/python3.8/dist-packages (from huggingface-hub<1.0,>=0.11.0->transformers) (4.5.0)\n",
            "Requirement already satisfied: certifi>=2017.4.17 in /usr/local/lib/python3.8/dist-packages (from requests->transformers) (2022.12.7)\n",
            "Requirement already satisfied: urllib3<1.27,>=1.21.1 in /usr/local/lib/python3.8/dist-packages (from requests->transformers) (1.26.14)\n",
            "Requirement already satisfied: chardet<5,>=3.0.2 in /usr/local/lib/python3.8/dist-packages (from requests->transformers) (4.0.0)\n",
            "Requirement already satisfied: idna<3,>=2.5 in /usr/local/lib/python3.8/dist-packages (from requests->transformers) (2.10)\n",
            "Installing collected packages: tokenizers, huggingface-hub, transformers\n",
            "Successfully installed huggingface-hub-0.12.1 tokenizers-0.13.2 transformers-4.26.1\n",
            "Looking in indexes: https://pypi.org/simple, https://us-python.pkg.dev/colab-wheels/public/simple/\n",
            "Collecting shutup\n",
            "  Downloading shutup-0.2.0-py3-none-any.whl (1.5 kB)\n",
            "Installing collected packages: shutup\n",
            "Successfully installed shutup-0.2.0\n",
            "Looking in indexes: https://pypi.org/simple, https://us-python.pkg.dev/colab-wheels/public/simple/\n",
            "Collecting pytorch-lightning\n",
            "  Downloading pytorch_lightning-1.9.3-py3-none-any.whl (826 kB)\n",
            "\u001b[2K     \u001b[90m━━━━━━━━━━━━━━━━━━━━━━━━━━━━━━━━━━━━━━\u001b[0m \u001b[32m826.4/826.4 KB\u001b[0m \u001b[31m14.8 MB/s\u001b[0m eta \u001b[36m0:00:00\u001b[0m\n",
            "\u001b[?25hRequirement already satisfied: fsspec[http]>2021.06.0 in /usr/local/lib/python3.8/dist-packages (from pytorch-lightning) (2023.1.0)\n",
            "Requirement already satisfied: numpy>=1.17.2 in /usr/local/lib/python3.8/dist-packages (from pytorch-lightning) (1.22.4)\n",
            "Collecting torchmetrics>=0.7.0\n",
            "  Downloading torchmetrics-0.11.3-py3-none-any.whl (518 kB)\n",
            "\u001b[2K     \u001b[90m━━━━━━━━━━━━━━━━━━━━━━━━━━━━━━━━━━━━━━\u001b[0m \u001b[32m518.6/518.6 KB\u001b[0m \u001b[31m45.7 MB/s\u001b[0m eta \u001b[36m0:00:00\u001b[0m\n",
            "\u001b[?25hRequirement already satisfied: typing-extensions>=4.0.0 in /usr/local/lib/python3.8/dist-packages (from pytorch-lightning) (4.5.0)\n",
            "Requirement already satisfied: packaging>=17.1 in /usr/local/lib/python3.8/dist-packages (from pytorch-lightning) (23.0)\n",
            "Collecting lightning-utilities>=0.6.0.post0\n",
            "  Downloading lightning_utilities-0.7.1-py3-none-any.whl (18 kB)\n",
            "Requirement already satisfied: tqdm>=4.57.0 in /usr/local/lib/python3.8/dist-packages (from pytorch-lightning) (4.64.1)\n",
            "Requirement already satisfied: PyYAML>=5.4 in /usr/local/lib/python3.8/dist-packages (from pytorch-lightning) (6.0)\n",
            "Requirement already satisfied: torch>=1.10.0 in /usr/local/lib/python3.8/dist-packages (from pytorch-lightning) (1.13.1+cu116)\n",
            "Requirement already satisfied: aiohttp!=4.0.0a0,!=4.0.0a1 in /usr/local/lib/python3.8/dist-packages (from fsspec[http]>2021.06.0->pytorch-lightning) (3.8.4)\n",
            "Requirement already satisfied: requests in /usr/local/lib/python3.8/dist-packages (from fsspec[http]>2021.06.0->pytorch-lightning) (2.25.1)\n",
            "Requirement already satisfied: attrs>=17.3.0 in /usr/local/lib/python3.8/dist-packages (from aiohttp!=4.0.0a0,!=4.0.0a1->fsspec[http]>2021.06.0->pytorch-lightning) (22.2.0)\n",
            "Requirement already satisfied: multidict<7.0,>=4.5 in /usr/local/lib/python3.8/dist-packages (from aiohttp!=4.0.0a0,!=4.0.0a1->fsspec[http]>2021.06.0->pytorch-lightning) (6.0.4)\n",
            "Requirement already satisfied: async-timeout<5.0,>=4.0.0a3 in /usr/local/lib/python3.8/dist-packages (from aiohttp!=4.0.0a0,!=4.0.0a1->fsspec[http]>2021.06.0->pytorch-lightning) (4.0.2)\n",
            "Requirement already satisfied: charset-normalizer<4.0,>=2.0 in /usr/local/lib/python3.8/dist-packages (from aiohttp!=4.0.0a0,!=4.0.0a1->fsspec[http]>2021.06.0->pytorch-lightning) (3.0.1)\n",
            "Requirement already satisfied: aiosignal>=1.1.2 in /usr/local/lib/python3.8/dist-packages (from aiohttp!=4.0.0a0,!=4.0.0a1->fsspec[http]>2021.06.0->pytorch-lightning) (1.3.1)\n",
            "Requirement already satisfied: frozenlist>=1.1.1 in /usr/local/lib/python3.8/dist-packages (from aiohttp!=4.0.0a0,!=4.0.0a1->fsspec[http]>2021.06.0->pytorch-lightning) (1.3.3)\n",
            "Requirement already satisfied: yarl<2.0,>=1.0 in /usr/local/lib/python3.8/dist-packages (from aiohttp!=4.0.0a0,!=4.0.0a1->fsspec[http]>2021.06.0->pytorch-lightning) (1.8.2)\n",
            "Requirement already satisfied: chardet<5,>=3.0.2 in /usr/local/lib/python3.8/dist-packages (from requests->fsspec[http]>2021.06.0->pytorch-lightning) (4.0.0)\n",
            "Requirement already satisfied: urllib3<1.27,>=1.21.1 in /usr/local/lib/python3.8/dist-packages (from requests->fsspec[http]>2021.06.0->pytorch-lightning) (1.26.14)\n",
            "Requirement already satisfied: idna<3,>=2.5 in /usr/local/lib/python3.8/dist-packages (from requests->fsspec[http]>2021.06.0->pytorch-lightning) (2.10)\n",
            "Requirement already satisfied: certifi>=2017.4.17 in /usr/local/lib/python3.8/dist-packages (from requests->fsspec[http]>2021.06.0->pytorch-lightning) (2022.12.7)\n",
            "Installing collected packages: lightning-utilities, torchmetrics, pytorch-lightning\n",
            "Successfully installed lightning-utilities-0.7.1 pytorch-lightning-1.9.3 torchmetrics-0.11.3\n",
            "Looking in indexes: https://pypi.org/simple, https://us-python.pkg.dev/colab-wheels/public/simple/\n",
            "Requirement already satisfied: torchMetrics in /usr/local/lib/python3.8/dist-packages (0.11.3)\n",
            "Requirement already satisfied: numpy>=1.17.2 in /usr/local/lib/python3.8/dist-packages (from torchMetrics) (1.22.4)\n",
            "Requirement already satisfied: torch>=1.8.1 in /usr/local/lib/python3.8/dist-packages (from torchMetrics) (1.13.1+cu116)\n",
            "Requirement already satisfied: packaging in /usr/local/lib/python3.8/dist-packages (from torchMetrics) (23.0)\n",
            "Requirement already satisfied: typing-extensions in /usr/local/lib/python3.8/dist-packages (from torchMetrics) (4.5.0)\n"
          ]
        }
      ],
      "source": [
        "# Requirements\n",
        "!pip install nltk\n",
        "!pip install transformers\n",
        "!pip install shutup\n",
        "!pip install pytorch-lightning\n",
        "!pip install torchMetrics"
      ]
    },
    {
      "cell_type": "code",
      "source": [
        "import numpy as np\n",
        "import pandas as pd\n",
        "import re\n",
        "import nltk\n",
        "import torch\n",
        "import torch.nn as nn\n",
        "import pytorch_lightning as pl\n",
        "import seaborn as sns\n",
        "import matplotlib.pyplot as plt\n",
        "import pickle\n",
        "from torch.utils.data import Dataset, DataLoader, random_split\n",
        "from pylab import rcParams\n",
        "from tqdm.auto import tqdm\n",
        "from transformers import BertTokenizer, AdamW, get_linear_schedule_with_warmup\n",
        "#from torchmetrics.functional import f1, accuracy\n",
        "from pytorch_lightning.callbacks import ModelCheckpoint, EarlyStopping\n",
        "from pytorch_lightning.loggers import TensorBoardLogger\n",
        "from sklearn.model_selection import train_test_split\n",
        "from sklearn.metrics import classification_report, multilabel_confusion_matrix\n",
        "from matplotlib import rc\n",
        "\n",
        "RANDOM_SEED = 42\n",
        "\n",
        "np.random.seed(RANDOM_SEED)\n",
        "torch.manual_seed(RANDOM_SEED)\n",
        "pl.seed_everything(RANDOM_SEED)"
      ],
      "metadata": {
        "colab": {
          "base_uri": "https://localhost:8080/"
        },
        "id": "ET7UusEe4OOQ",
        "outputId": "36e4522f-b99e-4971-e542-d86fcdd8d0ea"
      },
      "execution_count": null,
      "outputs": [
        {
          "output_type": "stream",
          "name": "stderr",
          "text": [
            "INFO:lightning_fabric.utilities.seed:Global seed set to 42\n"
          ]
        },
        {
          "output_type": "execute_result",
          "data": {
            "text/plain": [
              "42"
            ]
          },
          "metadata": {},
          "execution_count": 3
        }
      ]
    },
    {
      "cell_type": "code",
      "source": [
        "device = torch.device('cuda' if torch.cuda.is_available() else 'cpu')\n",
        "device"
      ],
      "metadata": {
        "colab": {
          "base_uri": "https://localhost:8080/"
        },
        "id": "pT4MjQNc4Q5O",
        "outputId": "fe4f4854-4063-4363-a3bb-fd0c6451bf90"
      },
      "execution_count": null,
      "outputs": [
        {
          "output_type": "execute_result",
          "data": {
            "text/plain": [
              "device(type='cuda')"
            ]
          },
          "metadata": {},
          "execution_count": 4
        }
      ]
    },
    {
      "cell_type": "code",
      "source": [
        "# Connect to drive and acquire data from Part 1\n",
        "from google.colab import drive\n",
        "drive.mount('/content/drive')"
      ],
      "metadata": {
        "colab": {
          "base_uri": "https://localhost:8080/"
        },
        "id": "yHvVvJab4TyA",
        "outputId": "43c55ac8-baea-4ac7-f76e-650a7a4fbc15"
      },
      "execution_count": null,
      "outputs": [
        {
          "output_type": "stream",
          "name": "stdout",
          "text": [
            "Mounted at /content/drive\n"
          ]
        }
      ]
    },
    {
      "cell_type": "code",
      "source": [
        "%cd /content/drive/My Drive/SP23/Honors Thesis/DATA H195B/repo/honors"
      ],
      "metadata": {
        "colab": {
          "base_uri": "https://localhost:8080/"
        },
        "id": "mdLZkmcy4bbp",
        "outputId": "cadec7bb-e35c-49c6-e995-ee404e1754d9"
      },
      "execution_count": null,
      "outputs": [
        {
          "output_type": "stream",
          "name": "stdout",
          "text": [
            "/content/drive/My Drive/SP23/Honors Thesis/DATA H195B/repo/honors\n"
          ]
        }
      ]
    },
    {
      "cell_type": "code",
      "source": [
        "reports_df = pd.read_csv('reports_df.csv',index_col=0)\n",
        "images_df = pd.read_csv('images_df.csv',index_col=0)\n",
        "combined = reports_df.merge(images_df,on='id')\n",
        "combined = combined.drop(columns=['label_y'])\n",
        "combined"
      ],
      "metadata": {
        "colab": {
          "base_uri": "https://localhost:8080/",
          "height": 641
        },
        "id": "hDHuMQTJ4fLn",
        "outputId": "778dc8d2-5932-4e8e-c649-02aa1fe04aab"
      },
      "execution_count": null,
      "outputs": [
        {
          "output_type": "execute_result",
          "data": {
            "text/plain": [
              "        id                                           findings  \\\n",
              "0      162  Heart size normal. Lungs are clear. XXXX are n...   \n",
              "1      162  Heart size normal. Lungs are clear. XXXX are n...   \n",
              "2     1390  The heart size and pulmonary vascularity appea...   \n",
              "3     1390  The heart size and pulmonary vascularity appea...   \n",
              "4      604  The heart size and pulmonary vascularity appea...   \n",
              "...    ...                                                ...   \n",
              "7569    85  There are scattered calcified granulomas. No f...   \n",
              "7570    85  There are scattered calcified granulomas. No f...   \n",
              "7571  1389                                                NaN   \n",
              "7572  1389                                                NaN   \n",
              "7573  1389                                                NaN   \n",
              "\n",
              "                                             impression  \\\n",
              "0                                          Normal chest   \n",
              "1                                          Normal chest   \n",
              "2                        No evidence of active disease.   \n",
              "3                        No evidence of active disease.   \n",
              "4                     1. No evidence of active disease.   \n",
              "...                                                 ...   \n",
              "7569                     No evidence of active disease.   \n",
              "7570                     No evidence of active disease.   \n",
              "7571  Heart size is normal. Lungs are clear. Overexp...   \n",
              "7572  Heart size is normal. Lungs are clear. Overexp...   \n",
              "7573  Heart size is normal. Lungs are clear. Overexp...   \n",
              "\n",
              "                                              full-text   label_x  index  \\\n",
              "0     Heart size normal. Lungs are clear. XXXX are n...    normal      0   \n",
              "1     Heart size normal. Lungs are clear. XXXX are n...    normal      0   \n",
              "2     The heart size and pulmonary vascularity appea...  abnormal      1   \n",
              "3     The heart size and pulmonary vascularity appea...  abnormal      1   \n",
              "4     The heart size and pulmonary vascularity appea...  abnormal      2   \n",
              "...                                                 ...       ...    ...   \n",
              "7569  There are scattered calcified granulomas. No f...  abnormal   3953   \n",
              "7570  There are scattered calcified granulomas. No f...  abnormal   3953   \n",
              "7571   Heart size is normal. Lungs are clear. Overex...  abnormal   3954   \n",
              "7572   Heart size is normal. Lungs are clear. Overex...  abnormal   3954   \n",
              "7573   Heart size is normal. Lungs are clear. Overex...  abnormal   3954   \n",
              "\n",
              "                                 image_id  \n",
              "0      NLMCXR_png/CXR162_IM-0401-1001.png  \n",
              "1      NLMCXR_png/CXR162_IM-0401-2001.png  \n",
              "2     NLMCXR_png/CXR1390_IM-0249-1001.png  \n",
              "3     NLMCXR_png/CXR1390_IM-0249-2001.png  \n",
              "4      NLMCXR_png/CXR604_IM-2193-1001.png  \n",
              "...                                   ...  \n",
              "7569    NLMCXR_png/CXR85_IM-2372-1001.png  \n",
              "7570    NLMCXR_png/CXR85_IM-2372-2001.png  \n",
              "7571  NLMCXR_png/CXR1389_IM-0247-1001.png  \n",
              "7572  NLMCXR_png/CXR1389_IM-0247-2001.png  \n",
              "7573  NLMCXR_png/CXR1389_IM-0247-3001.png  \n",
              "\n",
              "[7574 rows x 7 columns]"
            ],
            "text/html": [
              "\n",
              "  <div id=\"df-32b37809-4ded-4840-b866-e3463f9ce7c1\">\n",
              "    <div class=\"colab-df-container\">\n",
              "      <div>\n",
              "<style scoped>\n",
              "    .dataframe tbody tr th:only-of-type {\n",
              "        vertical-align: middle;\n",
              "    }\n",
              "\n",
              "    .dataframe tbody tr th {\n",
              "        vertical-align: top;\n",
              "    }\n",
              "\n",
              "    .dataframe thead th {\n",
              "        text-align: right;\n",
              "    }\n",
              "</style>\n",
              "<table border=\"1\" class=\"dataframe\">\n",
              "  <thead>\n",
              "    <tr style=\"text-align: right;\">\n",
              "      <th></th>\n",
              "      <th>id</th>\n",
              "      <th>findings</th>\n",
              "      <th>impression</th>\n",
              "      <th>full-text</th>\n",
              "      <th>label_x</th>\n",
              "      <th>index</th>\n",
              "      <th>image_id</th>\n",
              "    </tr>\n",
              "  </thead>\n",
              "  <tbody>\n",
              "    <tr>\n",
              "      <th>0</th>\n",
              "      <td>162</td>\n",
              "      <td>Heart size normal. Lungs are clear. XXXX are n...</td>\n",
              "      <td>Normal chest</td>\n",
              "      <td>Heart size normal. Lungs are clear. XXXX are n...</td>\n",
              "      <td>normal</td>\n",
              "      <td>0</td>\n",
              "      <td>NLMCXR_png/CXR162_IM-0401-1001.png</td>\n",
              "    </tr>\n",
              "    <tr>\n",
              "      <th>1</th>\n",
              "      <td>162</td>\n",
              "      <td>Heart size normal. Lungs are clear. XXXX are n...</td>\n",
              "      <td>Normal chest</td>\n",
              "      <td>Heart size normal. Lungs are clear. XXXX are n...</td>\n",
              "      <td>normal</td>\n",
              "      <td>0</td>\n",
              "      <td>NLMCXR_png/CXR162_IM-0401-2001.png</td>\n",
              "    </tr>\n",
              "    <tr>\n",
              "      <th>2</th>\n",
              "      <td>1390</td>\n",
              "      <td>The heart size and pulmonary vascularity appea...</td>\n",
              "      <td>No evidence of active disease.</td>\n",
              "      <td>The heart size and pulmonary vascularity appea...</td>\n",
              "      <td>abnormal</td>\n",
              "      <td>1</td>\n",
              "      <td>NLMCXR_png/CXR1390_IM-0249-1001.png</td>\n",
              "    </tr>\n",
              "    <tr>\n",
              "      <th>3</th>\n",
              "      <td>1390</td>\n",
              "      <td>The heart size and pulmonary vascularity appea...</td>\n",
              "      <td>No evidence of active disease.</td>\n",
              "      <td>The heart size and pulmonary vascularity appea...</td>\n",
              "      <td>abnormal</td>\n",
              "      <td>1</td>\n",
              "      <td>NLMCXR_png/CXR1390_IM-0249-2001.png</td>\n",
              "    </tr>\n",
              "    <tr>\n",
              "      <th>4</th>\n",
              "      <td>604</td>\n",
              "      <td>The heart size and pulmonary vascularity appea...</td>\n",
              "      <td>1. No evidence of active disease.</td>\n",
              "      <td>The heart size and pulmonary vascularity appea...</td>\n",
              "      <td>abnormal</td>\n",
              "      <td>2</td>\n",
              "      <td>NLMCXR_png/CXR604_IM-2193-1001.png</td>\n",
              "    </tr>\n",
              "    <tr>\n",
              "      <th>...</th>\n",
              "      <td>...</td>\n",
              "      <td>...</td>\n",
              "      <td>...</td>\n",
              "      <td>...</td>\n",
              "      <td>...</td>\n",
              "      <td>...</td>\n",
              "      <td>...</td>\n",
              "    </tr>\n",
              "    <tr>\n",
              "      <th>7569</th>\n",
              "      <td>85</td>\n",
              "      <td>There are scattered calcified granulomas. No f...</td>\n",
              "      <td>No evidence of active disease.</td>\n",
              "      <td>There are scattered calcified granulomas. No f...</td>\n",
              "      <td>abnormal</td>\n",
              "      <td>3953</td>\n",
              "      <td>NLMCXR_png/CXR85_IM-2372-1001.png</td>\n",
              "    </tr>\n",
              "    <tr>\n",
              "      <th>7570</th>\n",
              "      <td>85</td>\n",
              "      <td>There are scattered calcified granulomas. No f...</td>\n",
              "      <td>No evidence of active disease.</td>\n",
              "      <td>There are scattered calcified granulomas. No f...</td>\n",
              "      <td>abnormal</td>\n",
              "      <td>3953</td>\n",
              "      <td>NLMCXR_png/CXR85_IM-2372-2001.png</td>\n",
              "    </tr>\n",
              "    <tr>\n",
              "      <th>7571</th>\n",
              "      <td>1389</td>\n",
              "      <td>NaN</td>\n",
              "      <td>Heart size is normal. Lungs are clear. Overexp...</td>\n",
              "      <td>Heart size is normal. Lungs are clear. Overex...</td>\n",
              "      <td>abnormal</td>\n",
              "      <td>3954</td>\n",
              "      <td>NLMCXR_png/CXR1389_IM-0247-1001.png</td>\n",
              "    </tr>\n",
              "    <tr>\n",
              "      <th>7572</th>\n",
              "      <td>1389</td>\n",
              "      <td>NaN</td>\n",
              "      <td>Heart size is normal. Lungs are clear. Overexp...</td>\n",
              "      <td>Heart size is normal. Lungs are clear. Overex...</td>\n",
              "      <td>abnormal</td>\n",
              "      <td>3954</td>\n",
              "      <td>NLMCXR_png/CXR1389_IM-0247-2001.png</td>\n",
              "    </tr>\n",
              "    <tr>\n",
              "      <th>7573</th>\n",
              "      <td>1389</td>\n",
              "      <td>NaN</td>\n",
              "      <td>Heart size is normal. Lungs are clear. Overexp...</td>\n",
              "      <td>Heart size is normal. Lungs are clear. Overex...</td>\n",
              "      <td>abnormal</td>\n",
              "      <td>3954</td>\n",
              "      <td>NLMCXR_png/CXR1389_IM-0247-3001.png</td>\n",
              "    </tr>\n",
              "  </tbody>\n",
              "</table>\n",
              "<p>7574 rows × 7 columns</p>\n",
              "</div>\n",
              "      <button class=\"colab-df-convert\" onclick=\"convertToInteractive('df-32b37809-4ded-4840-b866-e3463f9ce7c1')\"\n",
              "              title=\"Convert this dataframe to an interactive table.\"\n",
              "              style=\"display:none;\">\n",
              "        \n",
              "  <svg xmlns=\"http://www.w3.org/2000/svg\" height=\"24px\"viewBox=\"0 0 24 24\"\n",
              "       width=\"24px\">\n",
              "    <path d=\"M0 0h24v24H0V0z\" fill=\"none\"/>\n",
              "    <path d=\"M18.56 5.44l.94 2.06.94-2.06 2.06-.94-2.06-.94-.94-2.06-.94 2.06-2.06.94zm-11 1L8.5 8.5l.94-2.06 2.06-.94-2.06-.94L8.5 2.5l-.94 2.06-2.06.94zm10 10l.94 2.06.94-2.06 2.06-.94-2.06-.94-.94-2.06-.94 2.06-2.06.94z\"/><path d=\"M17.41 7.96l-1.37-1.37c-.4-.4-.92-.59-1.43-.59-.52 0-1.04.2-1.43.59L10.3 9.45l-7.72 7.72c-.78.78-.78 2.05 0 2.83L4 21.41c.39.39.9.59 1.41.59.51 0 1.02-.2 1.41-.59l7.78-7.78 2.81-2.81c.8-.78.8-2.07 0-2.86zM5.41 20L4 18.59l7.72-7.72 1.47 1.35L5.41 20z\"/>\n",
              "  </svg>\n",
              "      </button>\n",
              "      \n",
              "  <style>\n",
              "    .colab-df-container {\n",
              "      display:flex;\n",
              "      flex-wrap:wrap;\n",
              "      gap: 12px;\n",
              "    }\n",
              "\n",
              "    .colab-df-convert {\n",
              "      background-color: #E8F0FE;\n",
              "      border: none;\n",
              "      border-radius: 50%;\n",
              "      cursor: pointer;\n",
              "      display: none;\n",
              "      fill: #1967D2;\n",
              "      height: 32px;\n",
              "      padding: 0 0 0 0;\n",
              "      width: 32px;\n",
              "    }\n",
              "\n",
              "    .colab-df-convert:hover {\n",
              "      background-color: #E2EBFA;\n",
              "      box-shadow: 0px 1px 2px rgba(60, 64, 67, 0.3), 0px 1px 3px 1px rgba(60, 64, 67, 0.15);\n",
              "      fill: #174EA6;\n",
              "    }\n",
              "\n",
              "    [theme=dark] .colab-df-convert {\n",
              "      background-color: #3B4455;\n",
              "      fill: #D2E3FC;\n",
              "    }\n",
              "\n",
              "    [theme=dark] .colab-df-convert:hover {\n",
              "      background-color: #434B5C;\n",
              "      box-shadow: 0px 1px 3px 1px rgba(0, 0, 0, 0.15);\n",
              "      filter: drop-shadow(0px 1px 2px rgba(0, 0, 0, 0.3));\n",
              "      fill: #FFFFFF;\n",
              "    }\n",
              "  </style>\n",
              "\n",
              "      <script>\n",
              "        const buttonEl =\n",
              "          document.querySelector('#df-32b37809-4ded-4840-b866-e3463f9ce7c1 button.colab-df-convert');\n",
              "        buttonEl.style.display =\n",
              "          google.colab.kernel.accessAllowed ? 'block' : 'none';\n",
              "\n",
              "        async function convertToInteractive(key) {\n",
              "          const element = document.querySelector('#df-32b37809-4ded-4840-b866-e3463f9ce7c1');\n",
              "          const dataTable =\n",
              "            await google.colab.kernel.invokeFunction('convertToInteractive',\n",
              "                                                     [key], {});\n",
              "          if (!dataTable) return;\n",
              "\n",
              "          const docLinkHtml = 'Like what you see? Visit the ' +\n",
              "            '<a target=\"_blank\" href=https://colab.research.google.com/notebooks/data_table.ipynb>data table notebook</a>'\n",
              "            + ' to learn more about interactive tables.';\n",
              "          element.innerHTML = '';\n",
              "          dataTable['output_type'] = 'display_data';\n",
              "          await google.colab.output.renderOutput(dataTable, element);\n",
              "          const docLink = document.createElement('div');\n",
              "          docLink.innerHTML = docLinkHtml;\n",
              "          element.appendChild(docLink);\n",
              "        }\n",
              "      </script>\n",
              "    </div>\n",
              "  </div>\n",
              "  "
            ]
          },
          "metadata": {},
          "execution_count": 8
        }
      ]
    },
    {
      "cell_type": "code",
      "source": [
        "!gdown --id 1mhT-osDT15obu8FVsgfDAoDd82IY-XQB # visual_embeds_mami.pkl"
      ],
      "metadata": {
        "id": "msq2sj_d57Hl",
        "outputId": "06a32103-e80f-444f-cae6-d3de9eff0381",
        "colab": {
          "base_uri": "https://localhost:8080/"
        }
      },
      "execution_count": null,
      "outputs": [
        {
          "output_type": "stream",
          "name": "stdout",
          "text": [
            "/usr/local/lib/python3.8/dist-packages/gdown/cli.py:127: FutureWarning: Option `--id` was deprecated in version 4.3.1 and will be removed in 5.0. You don't need to pass it anymore to use a file ID.\n",
            "  warnings.warn(\n",
            "Access denied with the following error:\n",
            "\n",
            " \tCannot retrieve the public link of the file. You may need to change\n",
            "\tthe permission to 'Anyone with the link', or have had many accesses. \n",
            "\n",
            "You may still be able to access the file from the browser:\n",
            "\n",
            "\t https://drive.google.com/uc?id=1mhT-osDT15obu8FVsgfDAoDd82IY-XQB \n",
            "\n"
          ]
        }
      ]
    }
  ]
}