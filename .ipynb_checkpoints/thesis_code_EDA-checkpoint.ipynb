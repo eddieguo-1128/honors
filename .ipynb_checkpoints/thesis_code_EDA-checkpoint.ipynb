{
 "cells": [
  {
   "cell_type": "markdown",
   "id": "8fa0ce16",
   "metadata": {},
   "source": [
    "# Thesis Code Part 1: EDA"
   ]
  },
  {
   "cell_type": "markdown",
   "id": "d3f486f3",
   "metadata": {},
   "source": [
    "## Import Packages"
   ]
  },
  {
   "cell_type": "code",
   "execution_count": 14,
   "id": "b43aa7b7",
   "metadata": {},
   "outputs": [],
   "source": [
    "# Import packages\n",
    "import numpy as np\n",
    "import pandas as pd\n",
    "import re\n",
    "#import pydicom as dcm\n",
    "from PIL import Image\n",
    "import matplotlib.pyplot as plt"
   ]
  },
  {
   "cell_type": "markdown",
   "id": "3448fe1d",
   "metadata": {},
   "source": [
    "## UCSF CXR Dataset EDA\n",
    "### Read report data"
   ]
  },
  {
   "cell_type": "code",
   "execution_count": 1,
   "id": "3b2b3fb4",
   "metadata": {},
   "outputs": [
    {
     "ename": "NameError",
     "evalue": "name 'pd' is not defined",
     "output_type": "error",
     "traceback": [
      "\u001b[0;31m---------------------------------------------------------------------------\u001b[0m",
      "\u001b[0;31mNameError\u001b[0m                                 Traceback (most recent call last)",
      "Cell \u001b[0;32mIn[1], line 2\u001b[0m\n\u001b[1;32m      1\u001b[0m \u001b[38;5;66;03m# Read report data\u001b[39;00m\n\u001b[0;32m----> 2\u001b[0m data \u001b[38;5;241m=\u001b[39m \u001b[43mpd\u001b[49m\u001b[38;5;241m.\u001b[39mread_csv(\u001b[38;5;124m'\u001b[39m\u001b[38;5;124m/mnt/sohn2022/UCSF_secure_cxr_data/Secure_UCSF_CXR_01012022_to_02132023.csv\u001b[39m\u001b[38;5;124m'\u001b[39m,index_col\u001b[38;5;241m=\u001b[39m\u001b[38;5;241m0\u001b[39m)\n\u001b[1;32m      3\u001b[0m data \u001b[38;5;241m=\u001b[39m data\u001b[38;5;241m.\u001b[39miloc[:,:\u001b[38;5;241m13\u001b[39m]\n\u001b[1;32m      4\u001b[0m data\u001b[38;5;241m.\u001b[39mhead()\n",
      "\u001b[0;31mNameError\u001b[0m: name 'pd' is not defined"
     ]
    }
   ],
   "source": [
    "# Read report data\n",
    "data = pd.read_csv('/mnt/sohn2022/UCSF_secure_cxr_data/Secure_UCSF_CXR_01012022_to_02132023.csv',index_col=0)\n",
    "data = data.iloc[:,:13]\n",
    "data.head()"
   ]
  },
  {
   "cell_type": "markdown",
   "id": "040a4067",
   "metadata": {},
   "source": [
    "### An example of report text and image"
   ]
  },
  {
   "cell_type": "code",
   "execution_count": 16,
   "id": "85eadf97",
   "metadata": {},
   "outputs": [
    {
     "data": {
      "text/plain": [
       "'XR CHEST 1 VIEW AP   12/9/2022 6:12 AM\\nINDICATION: Age:  4 months Gender:  Female. History:  check ett placement\\nCOMPARISON: Chest radiograph, 12/8/2022\\nFINDINGS:\\nHardware: Endotracheal tube now terminates in the mid/lower thoracic trachea. Enteric tube terminates in the body of the stomach, inferior approach venous catheter terminates at the inferior cavoatrial junction.\\nLungs and pleural space: Worsening diffuse bilateral hazy and streaky opacities. No focal consolidation, pleural effusion, or pneumothorax.\\nHeart and mediastinum: Unchanged cardiomediastinal silhouette.\\nUpper abdomen: Normal.\\nBones: Unchanged segmentation anomalies of the lower thoracic spine.\\nSubcutaneous: Normal.\\n\\nEndotracheal tube terminates in the mid/lower thoracic trachea. Other support devices stable\\nIncreasing diffuse bilateral hazy interstitial opacities, right greater than left, may represent worsening edema and atelectasis.\\nReport dictated by: Rachelle Durand, DO, signed by: Rachelle Durand, DO\\nDepartment of Radiology and Biomedical Imaging'"
      ]
     },
     "execution_count": 16,
     "metadata": {},
     "output_type": "execute_result"
    }
   ],
   "source": [
    "# Show an example of report text\n",
    "data['Report Text'].sample(1).values[0]"
   ]
  },
  {
   "cell_type": "code",
   "execution_count": null,
   "id": "67add6e3",
   "metadata": {},
   "outputs": [],
   "source": [
    "# Show an example of chest x-ray image\n"
   ]
  },
  {
   "cell_type": "markdown",
   "id": "7d09df46",
   "metadata": {},
   "source": [
    "### Reports that need further communication"
   ]
  },
  {
   "cell_type": "code",
   "execution_count": 26,
   "id": "f657ad9b",
   "metadata": {},
   "outputs": [
    {
     "data": {
      "text/plain": [
       "'XR CHEST 1 VIEW AP   9/3/2022 7:12 PM\\nHISTORY: line placement\\nCOMPARISON: None.\\n\\nFINDINGS/IMPRESSION:\\nRight internal jugular central venous catheter terminates in the right atrium. Normal cardiac silhouette and mediastinal contours. Lungs are clear. No pleural effusion or pneumothorax.\\n//Impression discussed with Dr. Yao-Cohen by Dr. Andrew Ross Shilling Vinson, MD (Radiology) on 9/3/2022 8:00 PM.//\\nReport dictated by: Andrew Ross Shilling Vinson, MD, signed by: Andrew Ross Shilling Vinson, MD\\nDepartment of Radiology and Biomedical Imaging'"
      ]
     },
     "execution_count": 26,
     "metadata": {},
     "output_type": "execute_result"
    }
   ],
   "source": [
    "# An example of report text that contains urgent findings\n",
    "keywords = ['discuss','call','consult','communicate','request']\n",
    "comm = data[data['Report Text'].str.contains('communicate|discuss|call|consult|request')]\n",
    "comm['Report Text'].sample(1).values[0]"
   ]
  },
  {
   "cell_type": "markdown",
   "id": "96a3e91b",
   "metadata": {},
   "source": [
    "### Distribution of labels"
   ]
  },
  {
   "cell_type": "code",
   "execution_count": 25,
   "id": "5421078a",
   "metadata": {
    "scrolled": true
   },
   "outputs": [
    {
     "name": "stdout",
     "output_type": "stream",
     "text": [
      "False    99841\n",
      "True      1526\n",
      "Name: label, dtype: int64\n"
     ]
    },
    {
     "data": {
      "image/png": "[encoded data removed]",
      "text/plain": [
       "<Figure size 432x288 with 1 Axes>"
      ]
     },
     "metadata": {
      "needs_background": "light"
     },
     "output_type": "display_data"
    },
    {
     "name": "stdout",
     "output_type": "stream",
     "text": [
      "0.02%  of reports need further communication\n"
     ]
    }
   ],
   "source": [
    "data['label'] = data['Report Text'].str.contains('communicate|discuss')\n",
    "value_counts = data['label'].value_counts()\n",
    "print(value_counts)\n",
    "value_counts.plot(kind='bar')\n",
    "plt.xlabel('Comm or not')\n",
    "plt.ylabel('Count')\n",
    "plt.title('Distribution of reports that need communication or not')\n",
    "plt.show()\n",
    "\n",
    "dist = dict(value_counts)\n",
    "percent = dist[True]/(dist[True]+dist[False])\n",
    "print(\"{:.2f}%\".format(percent),' of reports need further communication')"
   ]
  },
  {
   "cell_type": "code",
   "execution_count": 7,
   "id": "fa54fecd",
   "metadata": {},
   "outputs": [
    {
     "name": "stdout",
     "output_type": "stream",
     "text": [
      "Average patient age for those don't need further communication is: 44.73510375454818 and average age for those that need communication is: 51.924904942965775\n"
     ]
    }
   ],
   "source": [
    "# Other factors - Age\n",
    "print(\"Average patient age for those don't need further communication is:\",np.mean(data[data['label']==False]['Patient Age']),\n",
    "      \"and average age for those that need communication is:\",np.mean(data[data['label']==True]['Patient Age']))"
   ]
  },
  {
   "cell_type": "code",
   "execution_count": 8,
   "id": "760258cd",
   "metadata": {},
   "outputs": [
    {
     "name": "stdout",
     "output_type": "stream",
     "text": [
      "Amon patients whose radiology report need further communication, 0.5285171102661597 are male, and 0.467680608365019 are female; 0.8136882129277566 are inpatient.\n"
     ]
    }
   ],
   "source": [
    "# Other factors - Sex, Patient Status\n",
    "sex = dict(data[data['label']==True]['Patient Sex'].value_counts())\n",
    "status = dict(data[data['label']==True]['Patient Status'].value_counts())\n",
    "print('Amon patients whose radiology report need further communication,', sex['Male']/263, 'are male, and',\n",
    "     sex['Female']/263,'are female;',status['Inpatient']/263, 'are inpatient.')"
   ]
  },
  {
   "cell_type": "markdown",
   "id": "53d8a5bd",
   "metadata": {},
   "source": [
    "## Preprocessing\n",
    "### Extract findings"
   ]
  },
  {
   "cell_type": "code",
   "execution_count": 9,
   "id": "4a7366cb",
   "metadata": {},
   "outputs": [],
   "source": [
    "# functions from Adrian\n",
    "def preprocess_findings(report_text):     \n",
    "    findings_impression = re.search(r\"((?<=\\nFINDINGS\\/IMPRESSION:|FINDINGS\\/IMPRESSION:\\n)(.|\\n)*)\", report_text)\n",
    "    if findings_impression:\n",
    "        findings_impression = findings_impression.group(0).split('\"')[0]\n",
    "        findings_impression = re.sub(r\"(?=(Impression discussed|Further impression|Final impression|Attestation|Radiologist|Electronically|This change was|Report dictated))(.|\\n)*\", \"\", findings_impression)\n",
    "        return findings_impression.strip()\n",
    "    return 'None'"
   ]
  },
  {
   "cell_type": "code",
   "execution_count": 10,
   "id": "6027f92f",
   "metadata": {},
   "outputs": [
    {
     "data": {
      "text/html": [
       "<div>\n",
       "<style scoped>\n",
       "    .dataframe tbody tr th:only-of-type {\n",
       "        vertical-align: middle;\n",
       "    }\n",
       "\n",
       "    .dataframe tbody tr th {\n",
       "        vertical-align: top;\n",
       "    }\n",
       "\n",
       "    .dataframe thead th {\n",
       "        text-align: right;\n",
       "    }\n",
       "</style>\n",
       "<table border=\"1\" class=\"dataframe\">\n",
       "  <thead>\n",
       "    <tr style=\"text-align: right;\">\n",
       "      <th></th>\n",
       "      <th>Organization</th>\n",
       "      <th>Point of Care</th>\n",
       "      <th>Source System</th>\n",
       "      <th>Accession Number</th>\n",
       "      <th>Modality</th>\n",
       "      <th>Exam Code</th>\n",
       "      <th>Exam Description</th>\n",
       "      <th>CPT Code</th>\n",
       "      <th>Report Text</th>\n",
       "      <th>Is Stat</th>\n",
       "      <th>Patient Status</th>\n",
       "      <th>Patient Sex</th>\n",
       "      <th>Patient Age</th>\n",
       "      <th>label</th>\n",
       "      <th>Findings</th>\n",
       "    </tr>\n",
       "  </thead>\n",
       "  <tbody>\n",
       "    <tr>\n",
       "      <th>0</th>\n",
       "      <td>MBXR1</td>\n",
       "      <td>RAD X-RAY MB</td>\n",
       "      <td>EPIC</td>\n",
       "      <td>10022207761</td>\n",
       "      <td>XR</td>\n",
       "      <td>DCHE2</td>\n",
       "      <td>XR CHEST 2 VIEWS PA AND LATERAL</td>\n",
       "      <td>71020</td>\n",
       "      <td>XR CHEST 2 VIEWS PA AND LATERAL   6/30/2022 11...</td>\n",
       "      <td>False</td>\n",
       "      <td>Emergency</td>\n",
       "      <td>Male</td>\n",
       "      <td>39.00</td>\n",
       "      <td>False</td>\n",
       "      <td>Clear lungs. No pleural effusion or pneumothor...</td>\n",
       "    </tr>\n",
       "    <tr>\n",
       "      <th>1</th>\n",
       "      <td>PDR11</td>\n",
       "      <td>RAD X-RAY PARN</td>\n",
       "      <td>EPIC</td>\n",
       "      <td>10022207760</td>\n",
       "      <td>XR</td>\n",
       "      <td>DCHE1</td>\n",
       "      <td>XR CHEST 1 VIEW AP</td>\n",
       "      <td>71010</td>\n",
       "      <td>XR CHEST 1 VIEW AP   6/30/2022 11:53 PM\\nHISTO...</td>\n",
       "      <td>False</td>\n",
       "      <td>Emergency</td>\n",
       "      <td>Male</td>\n",
       "      <td>41.00</td>\n",
       "      <td>False</td>\n",
       "      <td>Increased right greater than left opacities ma...</td>\n",
       "    </tr>\n",
       "    <tr>\n",
       "      <th>2</th>\n",
       "      <td>PDR9</td>\n",
       "      <td>RAD X-RAY PARN</td>\n",
       "      <td>EPIC</td>\n",
       "      <td>10022207745</td>\n",
       "      <td>XR</td>\n",
       "      <td>DCHE1</td>\n",
       "      <td>XR CHEST 1 VIEW AP</td>\n",
       "      <td>71010</td>\n",
       "      <td>XR CHEST 1 VIEW AP   6/30/2022 11:36 PM\\nHISTO...</td>\n",
       "      <td>False</td>\n",
       "      <td>Inpatient</td>\n",
       "      <td>Female</td>\n",
       "      <td>25.00</td>\n",
       "      <td>False</td>\n",
       "      <td>Endotracheal tube terminates approximately 5 c...</td>\n",
       "    </tr>\n",
       "    <tr>\n",
       "      <th>3</th>\n",
       "      <td>PDR9</td>\n",
       "      <td>RAD X-RAY PARN</td>\n",
       "      <td>EPIC</td>\n",
       "      <td>10022207747</td>\n",
       "      <td>XR</td>\n",
       "      <td>DCHE1</td>\n",
       "      <td>XR CHEST 1 VIEW AP</td>\n",
       "      <td>71010</td>\n",
       "      <td>XR CHEST 1 VIEW AP   6/30/2022 11:26 PM\\nHISTO...</td>\n",
       "      <td>False</td>\n",
       "      <td>Inpatient</td>\n",
       "      <td>Female</td>\n",
       "      <td>60.00</td>\n",
       "      <td>False</td>\n",
       "      <td>Right chest wall port appears unchanged.\\nNo s...</td>\n",
       "    </tr>\n",
       "    <tr>\n",
       "      <th>4</th>\n",
       "      <td>MBP9</td>\n",
       "      <td>RAD X-RAY MB</td>\n",
       "      <td>EPIC</td>\n",
       "      <td>10022207748</td>\n",
       "      <td>XR</td>\n",
       "      <td>DCHE1</td>\n",
       "      <td>XR CHEST 1 VIEW AP</td>\n",
       "      <td>71010</td>\n",
       "      <td>XR CHEST 1 VIEW AP   6/30/2022 11:21 PM\\nINDIC...</td>\n",
       "      <td>False</td>\n",
       "      <td>Inpatient</td>\n",
       "      <td>Female</td>\n",
       "      <td>0.27</td>\n",
       "      <td>False</td>\n",
       "      <td>None</td>\n",
       "    </tr>\n",
       "  </tbody>\n",
       "</table>\n",
       "</div>"
      ],
      "text/plain": [
       "  Organization   Point of Care Source System  Accession Number Modality  \\\n",
       "0        MBXR1    RAD X-RAY MB          EPIC       10022207761       XR   \n",
       "1        PDR11  RAD X-RAY PARN          EPIC       10022207760       XR   \n",
       "2         PDR9  RAD X-RAY PARN          EPIC       10022207745       XR   \n",
       "3         PDR9  RAD X-RAY PARN          EPIC       10022207747       XR   \n",
       "4         MBP9    RAD X-RAY MB          EPIC       10022207748       XR   \n",
       "\n",
       "  Exam Code                 Exam Description  CPT Code  \\\n",
       "0     DCHE2  XR CHEST 2 VIEWS PA AND LATERAL     71020   \n",
       "1     DCHE1               XR CHEST 1 VIEW AP     71010   \n",
       "2     DCHE1               XR CHEST 1 VIEW AP     71010   \n",
       "3     DCHE1               XR CHEST 1 VIEW AP     71010   \n",
       "4     DCHE1               XR CHEST 1 VIEW AP     71010   \n",
       "\n",
       "                                         Report Text  Is Stat Patient Status  \\\n",
       "0  XR CHEST 2 VIEWS PA AND LATERAL   6/30/2022 11...    False      Emergency   \n",
       "1  XR CHEST 1 VIEW AP   6/30/2022 11:53 PM\\nHISTO...    False      Emergency   \n",
       "2  XR CHEST 1 VIEW AP   6/30/2022 11:36 PM\\nHISTO...    False      Inpatient   \n",
       "3  XR CHEST 1 VIEW AP   6/30/2022 11:26 PM\\nHISTO...    False      Inpatient   \n",
       "4  XR CHEST 1 VIEW AP   6/30/2022 11:21 PM\\nINDIC...    False      Inpatient   \n",
       "\n",
       "  Patient Sex  Patient Age  label  \\\n",
       "0        Male        39.00  False   \n",
       "1        Male        41.00  False   \n",
       "2      Female        25.00  False   \n",
       "3      Female        60.00  False   \n",
       "4      Female         0.27  False   \n",
       "\n",
       "                                            Findings  \n",
       "0  Clear lungs. No pleural effusion or pneumothor...  \n",
       "1  Increased right greater than left opacities ma...  \n",
       "2  Endotracheal tube terminates approximately 5 c...  \n",
       "3  Right chest wall port appears unchanged.\\nNo s...  \n",
       "4                                               None  "
      ]
     },
     "execution_count": 10,
     "metadata": {},
     "output_type": "execute_result"
    }
   ],
   "source": [
    "data['Findings'] = data['Report Text'].apply(preprocess_findings)\n",
    "data.head()"
   ]
  },
  {
   "cell_type": "code",
   "execution_count": 12,
   "id": "faa8d4fa",
   "metadata": {},
   "outputs": [
    {
     "data": {
      "text/html": [
       "<div>\n",
       "<style scoped>\n",
       "    .dataframe tbody tr th:only-of-type {\n",
       "        vertical-align: middle;\n",
       "    }\n",
       "\n",
       "    .dataframe tbody tr th {\n",
       "        vertical-align: top;\n",
       "    }\n",
       "\n",
       "    .dataframe thead th {\n",
       "        text-align: right;\n",
       "    }\n",
       "</style>\n",
       "<table border=\"1\" class=\"dataframe\">\n",
       "  <thead>\n",
       "    <tr style=\"text-align: right;\">\n",
       "      <th></th>\n",
       "      <th>Organization</th>\n",
       "      <th>Point of Care</th>\n",
       "      <th>Source System</th>\n",
       "      <th>Accession Number</th>\n",
       "      <th>Modality</th>\n",
       "      <th>Exam Code</th>\n",
       "      <th>Exam Description</th>\n",
       "      <th>CPT Code</th>\n",
       "      <th>Report Text</th>\n",
       "      <th>Is Stat</th>\n",
       "      <th>Patient Status</th>\n",
       "      <th>Patient Sex</th>\n",
       "      <th>Patient Age</th>\n",
       "      <th>label</th>\n",
       "      <th>Findings</th>\n",
       "    </tr>\n",
       "  </thead>\n",
       "  <tbody>\n",
       "    <tr>\n",
       "      <th>11498</th>\n",
       "      <td>E01</td>\n",
       "      <td>RAD X-RAY PARN</td>\n",
       "      <td>EPIC</td>\n",
       "      <td>10021833556</td>\n",
       "      <td>XR</td>\n",
       "      <td>DCHE1</td>\n",
       "      <td>XR CHEST 1 VIEW AP</td>\n",
       "      <td>71010</td>\n",
       "      <td>INDICATION:\\nXR CHEST 1 VIEW AP   2/11/2022 11...</td>\n",
       "      <td>False</td>\n",
       "      <td>Emergency</td>\n",
       "      <td>Female</td>\n",
       "      <td>78.0</td>\n",
       "      <td>False</td>\n",
       "      <td>Clear lungs. No pleural effusion or pneumothor...</td>\n",
       "    </tr>\n",
       "    <tr>\n",
       "      <th>10132</th>\n",
       "      <td>ZP1</td>\n",
       "      <td>RAD FLUOROSCOPY MZ</td>\n",
       "      <td>EPIC</td>\n",
       "      <td>10022098090</td>\n",
       "      <td>XR</td>\n",
       "      <td>DCHE1</td>\n",
       "      <td>XR CHEST 1 VIEW AP</td>\n",
       "      <td>71010</td>\n",
       "      <td>XR CHEST 1 VIEW AP   5/19/2022 11:01 AM\\nHISTO...</td>\n",
       "      <td>False</td>\n",
       "      <td>Outpatient</td>\n",
       "      <td>Male</td>\n",
       "      <td>75.0</td>\n",
       "      <td>False</td>\n",
       "      <td>Increased streaky bibasilar opacities may refl...</td>\n",
       "    </tr>\n",
       "    <tr>\n",
       "      <th>16438</th>\n",
       "      <td>PDR9</td>\n",
       "      <td>RAD X-RAY PARN</td>\n",
       "      <td>EPIC</td>\n",
       "      <td>10021775878</td>\n",
       "      <td>XR</td>\n",
       "      <td>DCHE1</td>\n",
       "      <td>XR CHEST 1 VIEW AP</td>\n",
       "      <td>71010</td>\n",
       "      <td>INDICATION:\\nXR CHEST 1 VIEW AP   1/23/2022 3:...</td>\n",
       "      <td>False</td>\n",
       "      <td>Inpatient</td>\n",
       "      <td>Male</td>\n",
       "      <td>70.0</td>\n",
       "      <td>False</td>\n",
       "      <td>Moderate left pleural effusion with adjacent h...</td>\n",
       "    </tr>\n",
       "    <tr>\n",
       "      <th>3007</th>\n",
       "      <td>M02</td>\n",
       "      <td>RAD X-RAY PARN</td>\n",
       "      <td>EPIC</td>\n",
       "      <td>10022727325</td>\n",
       "      <td>XR</td>\n",
       "      <td>DCHE1</td>\n",
       "      <td>XR CHEST 1 VIEW AP</td>\n",
       "      <td>71010</td>\n",
       "      <td>XR CHEST 1 VIEW AP   12/19/2022 1:20 PM\\nHISTO...</td>\n",
       "      <td>False</td>\n",
       "      <td>Outpatient</td>\n",
       "      <td>Male</td>\n",
       "      <td>78.0</td>\n",
       "      <td>False</td>\n",
       "      <td>Slightly decreased trace left apical pneumotho...</td>\n",
       "    </tr>\n",
       "    <tr>\n",
       "      <th>20139</th>\n",
       "      <td>PDR7</td>\n",
       "      <td>RAD X-RAY PARN</td>\n",
       "      <td>EPIC</td>\n",
       "      <td>10021989800</td>\n",
       "      <td>XR</td>\n",
       "      <td>DCHE1</td>\n",
       "      <td>XR CHEST 1 VIEW AP</td>\n",
       "      <td>71010</td>\n",
       "      <td>XR CHEST 1 VIEW AP   4/10/2022 8:20 AM\\nHISTOR...</td>\n",
       "      <td>False</td>\n",
       "      <td>Inpatient</td>\n",
       "      <td>Female</td>\n",
       "      <td>57.0</td>\n",
       "      <td>False</td>\n",
       "      <td>Increased patchy opacity right lower lung, pos...</td>\n",
       "    </tr>\n",
       "    <tr>\n",
       "      <th>...</th>\n",
       "      <td>...</td>\n",
       "      <td>...</td>\n",
       "      <td>...</td>\n",
       "      <td>...</td>\n",
       "      <td>...</td>\n",
       "      <td>...</td>\n",
       "      <td>...</td>\n",
       "      <td>...</td>\n",
       "      <td>...</td>\n",
       "      <td>...</td>\n",
       "      <td>...</td>\n",
       "      <td>...</td>\n",
       "      <td>...</td>\n",
       "      <td>...</td>\n",
       "      <td>...</td>\n",
       "    </tr>\n",
       "    <tr>\n",
       "      <th>17856</th>\n",
       "      <td>PDR8</td>\n",
       "      <td>RAD X-RAY PARN</td>\n",
       "      <td>EPIC</td>\n",
       "      <td>10021760521</td>\n",
       "      <td>XR</td>\n",
       "      <td>DCHE1</td>\n",
       "      <td>XR CHEST 1 VIEW AP</td>\n",
       "      <td>71010</td>\n",
       "      <td>INDICATION:\\nXR CHEST 1 VIEW AP   1/17/2022 5:...</td>\n",
       "      <td>False</td>\n",
       "      <td>Inpatient</td>\n",
       "      <td>Male</td>\n",
       "      <td>68.0</td>\n",
       "      <td>True</td>\n",
       "      <td>Interval removal of right thoracostomy tube. U...</td>\n",
       "    </tr>\n",
       "    <tr>\n",
       "      <th>17866</th>\n",
       "      <td>PDR9</td>\n",
       "      <td>RAD X-RAY PARN</td>\n",
       "      <td>EPIC</td>\n",
       "      <td>10021760501</td>\n",
       "      <td>XR</td>\n",
       "      <td>DCHE1</td>\n",
       "      <td>XR CHEST 1 VIEW AP</td>\n",
       "      <td>71010</td>\n",
       "      <td>INDICATION:\\nXR CHEST 1 VIEW AP   1/17/2022 4:...</td>\n",
       "      <td>False</td>\n",
       "      <td>Inpatient</td>\n",
       "      <td>Female</td>\n",
       "      <td>24.0</td>\n",
       "      <td>True</td>\n",
       "      <td>Interval removal of endotracheal tube with oth...</td>\n",
       "    </tr>\n",
       "    <tr>\n",
       "      <th>18164</th>\n",
       "      <td>PDR7</td>\n",
       "      <td>RAD X-RAY PARN</td>\n",
       "      <td>EPIC</td>\n",
       "      <td>10021759316</td>\n",
       "      <td>XR</td>\n",
       "      <td>DCHE1</td>\n",
       "      <td>XR CHEST 1 VIEW AP</td>\n",
       "      <td>71010</td>\n",
       "      <td>INDICATION:\\nXR CHEST 1 VIEW AP   1/15/2022 1:...</td>\n",
       "      <td>False</td>\n",
       "      <td>Inpatient</td>\n",
       "      <td>Female</td>\n",
       "      <td>67.0</td>\n",
       "      <td>True</td>\n",
       "      <td>There appears to be a roughly 1.3 cm thin, lin...</td>\n",
       "    </tr>\n",
       "    <tr>\n",
       "      <th>18847</th>\n",
       "      <td>PDR6</td>\n",
       "      <td>RAD X-RAY PARN</td>\n",
       "      <td>EPIC</td>\n",
       "      <td>10021752132</td>\n",
       "      <td>XR</td>\n",
       "      <td>DCHE1</td>\n",
       "      <td>XR CHEST 1 VIEW AP</td>\n",
       "      <td>71010</td>\n",
       "      <td>INDICATION:\\nXR CHEST 1 VIEW AP   1/12/2022 6:...</td>\n",
       "      <td>False</td>\n",
       "      <td>Inpatient</td>\n",
       "      <td>Male</td>\n",
       "      <td>61.0</td>\n",
       "      <td>True</td>\n",
       "      <td>Postsurgical changes of recent hiatal hernia r...</td>\n",
       "    </tr>\n",
       "    <tr>\n",
       "      <th>19500</th>\n",
       "      <td>PDR2</td>\n",
       "      <td>RAD X-RAY PARN</td>\n",
       "      <td>EPIC</td>\n",
       "      <td>10021742482</td>\n",
       "      <td>XR</td>\n",
       "      <td>DCHE1</td>\n",
       "      <td>XR CHEST 1 VIEW AP</td>\n",
       "      <td>71010</td>\n",
       "      <td>INDICATION:\\nXR CHEST 1 VIEW AP   1/10/2022 8:...</td>\n",
       "      <td>False</td>\n",
       "      <td>Inpatient</td>\n",
       "      <td>Female</td>\n",
       "      <td>75.0</td>\n",
       "      <td>True</td>\n",
       "      <td>New enteric tube terminates over the proximal ...</td>\n",
       "    </tr>\n",
       "  </tbody>\n",
       "</table>\n",
       "<p>763 rows × 15 columns</p>\n",
       "</div>"
      ],
      "text/plain": [
       "      Organization       Point of Care Source System  Accession Number  \\\n",
       "11498          E01      RAD X-RAY PARN          EPIC       10021833556   \n",
       "10132          ZP1  RAD FLUOROSCOPY MZ          EPIC       10022098090   \n",
       "16438         PDR9      RAD X-RAY PARN          EPIC       10021775878   \n",
       "3007           M02      RAD X-RAY PARN          EPIC       10022727325   \n",
       "20139         PDR7      RAD X-RAY PARN          EPIC       10021989800   \n",
       "...            ...                 ...           ...               ...   \n",
       "17856         PDR8      RAD X-RAY PARN          EPIC       10021760521   \n",
       "17866         PDR9      RAD X-RAY PARN          EPIC       10021760501   \n",
       "18164         PDR7      RAD X-RAY PARN          EPIC       10021759316   \n",
       "18847         PDR6      RAD X-RAY PARN          EPIC       10021752132   \n",
       "19500         PDR2      RAD X-RAY PARN          EPIC       10021742482   \n",
       "\n",
       "      Modality Exam Code    Exam Description  CPT Code  \\\n",
       "11498       XR     DCHE1  XR CHEST 1 VIEW AP     71010   \n",
       "10132       XR     DCHE1  XR CHEST 1 VIEW AP     71010   \n",
       "16438       XR     DCHE1  XR CHEST 1 VIEW AP     71010   \n",
       "3007        XR     DCHE1  XR CHEST 1 VIEW AP     71010   \n",
       "20139       XR     DCHE1  XR CHEST 1 VIEW AP     71010   \n",
       "...        ...       ...                 ...       ...   \n",
       "17856       XR     DCHE1  XR CHEST 1 VIEW AP     71010   \n",
       "17866       XR     DCHE1  XR CHEST 1 VIEW AP     71010   \n",
       "18164       XR     DCHE1  XR CHEST 1 VIEW AP     71010   \n",
       "18847       XR     DCHE1  XR CHEST 1 VIEW AP     71010   \n",
       "19500       XR     DCHE1  XR CHEST 1 VIEW AP     71010   \n",
       "\n",
       "                                             Report Text  Is Stat  \\\n",
       "11498  INDICATION:\\nXR CHEST 1 VIEW AP   2/11/2022 11...    False   \n",
       "10132  XR CHEST 1 VIEW AP   5/19/2022 11:01 AM\\nHISTO...    False   \n",
       "16438  INDICATION:\\nXR CHEST 1 VIEW AP   1/23/2022 3:...    False   \n",
       "3007   XR CHEST 1 VIEW AP   12/19/2022 1:20 PM\\nHISTO...    False   \n",
       "20139  XR CHEST 1 VIEW AP   4/10/2022 8:20 AM\\nHISTOR...    False   \n",
       "...                                                  ...      ...   \n",
       "17856  INDICATION:\\nXR CHEST 1 VIEW AP   1/17/2022 5:...    False   \n",
       "17866  INDICATION:\\nXR CHEST 1 VIEW AP   1/17/2022 4:...    False   \n",
       "18164  INDICATION:\\nXR CHEST 1 VIEW AP   1/15/2022 1:...    False   \n",
       "18847  INDICATION:\\nXR CHEST 1 VIEW AP   1/12/2022 6:...    False   \n",
       "19500  INDICATION:\\nXR CHEST 1 VIEW AP   1/10/2022 8:...    False   \n",
       "\n",
       "      Patient Status Patient Sex  Patient Age  label  \\\n",
       "11498      Emergency      Female         78.0  False   \n",
       "10132     Outpatient        Male         75.0  False   \n",
       "16438      Inpatient        Male         70.0  False   \n",
       "3007      Outpatient        Male         78.0  False   \n",
       "20139      Inpatient      Female         57.0  False   \n",
       "...              ...         ...          ...    ...   \n",
       "17856      Inpatient        Male         68.0   True   \n",
       "17866      Inpatient      Female         24.0   True   \n",
       "18164      Inpatient      Female         67.0   True   \n",
       "18847      Inpatient        Male         61.0   True   \n",
       "19500      Inpatient      Female         75.0   True   \n",
       "\n",
       "                                                Findings  \n",
       "11498  Clear lungs. No pleural effusion or pneumothor...  \n",
       "10132  Increased streaky bibasilar opacities may refl...  \n",
       "16438  Moderate left pleural effusion with adjacent h...  \n",
       "3007   Slightly decreased trace left apical pneumotho...  \n",
       "20139  Increased patchy opacity right lower lung, pos...  \n",
       "...                                                  ...  \n",
       "17856  Interval removal of right thoracostomy tube. U...  \n",
       "17866  Interval removal of endotracheal tube with oth...  \n",
       "18164  There appears to be a roughly 1.3 cm thin, lin...  \n",
       "18847  Postsurgical changes of recent hiatal hernia r...  \n",
       "19500  New enteric tube terminates over the proximal ...  \n",
       "\n",
       "[763 rows x 15 columns]"
      ]
     },
     "execution_count": 12,
     "metadata": {},
     "output_type": "execute_result"
    }
   ],
   "source": [
    "sample = data[data['label']==False].sample(2000)\n",
    "data = pd.concat([sample,data[data['label']==True]])\n",
    "data"
   ]
  },
  {
   "cell_type": "markdown",
   "id": "598e3164",
   "metadata": {},
   "source": [
    "## Train Test Split"
   ]
  },
  {
   "cell_type": "code",
   "execution_count": null,
   "id": "63d76fb7",
   "metadata": {},
   "outputs": [],
   "source": [
    "from sklearn.model_selection import train_test_split\n",
    "\n",
    "# fix seed for reproducibility\n",
    "np.random.seed(2023)\n",
    "\n",
    "# split the dataset depending on whether we need a validation set\n",
    "def split(reports_df, val=False):\n",
    "    train, test = train_test_split(reports_df, test_size = 0.2, shuffle=True)\n",
    "    if val:\n",
    "        train, validation = train_test_split(train, test_size = 0.1, shuffle=True)\n",
    "        return train, validation, test\n",
    "    else:\n",
    "        return train, test\n",
    "\n",
    "train,test = split(data,val=False)"
   ]
  },
  {
   "cell_type": "code",
   "execution_count": null,
   "id": "deb77654",
   "metadata": {},
   "outputs": [],
   "source": [
    "train.to_csv('train.csv')\n",
    "test.to_csv('test.csv')"
   ]
  }
 ],
 "metadata": {
  "kernelspec": {
   "display_name": "Python 3 (ipykernel)",
   "language": "python",
   "name": "python3"
  },
  "language_info": {
   "codemirror_mode": {
    "name": "ipython",
    "version": 3
   },
   "file_extension": ".py",
   "mimetype": "text/x-python",
   "name": "python",
   "nbconvert_exporter": "python",
   "pygments_lexer": "ipython3",
   "version": "3.9.12"
  }
 },
 "nbformat": 4,
 "nbformat_minor": 5
}
