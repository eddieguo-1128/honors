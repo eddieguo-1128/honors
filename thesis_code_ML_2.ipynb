{
 "cells": [
  {
   "cell_type": "markdown",
   "id": "dc728c2a",
   "metadata": {},
   "source": [
    "# Thesis Code Part 2: Classic Machine Learning (Another Try)"
   ]
  },
  {
   "cell_type": "markdown",
   "id": "ac6a5f69",
   "metadata": {},
   "source": [
    "## Import Packages"
   ]
  },
  {
   "cell_type": "code",
   "execution_count": 1,
   "id": "906c457a",
   "metadata": {},
   "outputs": [],
   "source": [
    "import pandas as pd\n",
    "from sklearn.naive_bayes import MultinomialNB\n",
    "from sklearn.feature_extraction.text import TfidfVectorizer\n",
    "from sklearn.svm import SVC\n",
    "from sklearn.metrics import f1_score"
   ]
  },
  {
   "cell_type": "markdown",
   "id": "a4563364",
   "metadata": {},
   "source": [
    "## Import Data"
   ]
  },
  {
   "cell_type": "code",
   "execution_count": 2,
   "id": "e6b76545",
   "metadata": {},
   "outputs": [],
   "source": [
    "train = pd.read_csv('train.csv')\n",
    "test = pd.read_csv('test.csv')"
   ]
  },
  {
   "cell_type": "code",
   "execution_count": 3,
   "id": "2bae3285",
   "metadata": {},
   "outputs": [],
   "source": [
    "X_train, X_test = train['Findings'].to_list(), test['Findings'].to_list()\n",
    "y_train, y_test = train['label'].to_list(), test['label'].to_list()"
   ]
  },
  {
   "cell_type": "markdown",
   "id": "8ac47000",
   "metadata": {},
   "source": [
    "## Naive Bayes"
   ]
  },
  {
   "cell_type": "code",
   "execution_count": 4,
   "id": "1cde736a",
   "metadata": {},
   "outputs": [
    {
     "name": "stdout",
     "output_type": "stream",
     "text": [
      "Naive Bayes F1-Score: 0.6986027944111778\n"
     ]
    }
   ],
   "source": [
    "# Creating a bag of words representation of the text data\n",
    "vectorizer = TfidfVectorizer(stop_words='english')\n",
    "X_train_bow = vectorizer.fit_transform(X_train)\n",
    "X_test_bow = vectorizer.transform(X_test)\n",
    "\n",
    "# Training the Naive Bayes classifier\n",
    "nb_classifier = MultinomialNB()\n",
    "nb_classifier.fit(X_train_bow, y_train)\n",
    "\n",
    "# Predicting the class labels for the test set\n",
    "y_pred = nb_classifier.predict(X_test_bow)\n",
    "\n",
    "# Evaluating the performance of the classifier\n",
    "accuracy = f1_score(y_test, y_pred)\n",
    "print(\"Naive Bayes F1-Score:\", accuracy)"
   ]
  },
  {
   "cell_type": "markdown",
   "id": "f5ce31d5",
   "metadata": {},
   "source": [
    "## SVM"
   ]
  },
  {
   "cell_type": "code",
   "execution_count": 5,
   "id": "04408704",
   "metadata": {},
   "outputs": [
    {
     "name": "stdout",
     "output_type": "stream",
     "text": [
      "SVM F1-Score: 0.7447216890595009\n"
     ]
    }
   ],
   "source": [
    "vectorizer = TfidfVectorizer(stop_words='english')\n",
    "X_train_vectors = vectorizer.fit_transform(X_train)\n",
    "X_test_vectors = vectorizer.transform(X_test)\n",
    "\n",
    "# Training the SVM classifier\n",
    "svm_classifier = SVC(kernel='linear')\n",
    "svm_classifier.fit(X_train_vectors, y_train)\n",
    "\n",
    "# Predicting the class labels for the test set\n",
    "y_pred = svm_classifier.predict(X_test_vectors)\n",
    "\n",
    "# Evaluating the performance of the classifier\n",
    "accuracy = f1_score(y_test, y_pred)\n",
    "print(\"SVM F1-Score:\", accuracy)"
   ]
  }
 ],
 "metadata": {
  "kernelspec": {
   "display_name": "Python 3 (ipykernel)",
   "language": "python",
   "name": "python3"
  },
  "language_info": {
   "codemirror_mode": {
    "name": "ipython",
    "version": 3
   },
   "file_extension": ".py",
   "mimetype": "text/x-python",
   "name": "python",
   "nbconvert_exporter": "python",
   "pygments_lexer": "ipython3",
   "version": "3.9.12"
  }
 },
 "nbformat": 4,
 "nbformat_minor": 5
}
